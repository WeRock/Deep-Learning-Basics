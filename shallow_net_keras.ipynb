{
 "cells": [
  {
   "cell_type": "markdown",
   "metadata": {
    "collapsed": true
   },
   "source": [
    "# Shallow Net in Keras"
   ]
  },
  {
   "cell_type": "markdown",
   "metadata": {},
   "source": [
    "A shallow neural network for classifying **MNIST** digits implemented in keras"
   ]
  },
  {
   "cell_type": "markdown",
   "metadata": {},
   "source": [
    "#### Import dependencies"
   ]
  },
  {
   "cell_type": "code",
   "execution_count": 1,
   "metadata": {
    "collapsed": true
   },
   "outputs": [],
   "source": [
    "import numpy as np\n",
    "# Set seed to match results with tutorial\n",
    "np.random.seed(42)"
   ]
  },
  {
   "cell_type": "code",
   "execution_count": 2,
   "metadata": {},
   "outputs": [
    {
     "name": "stderr",
     "output_type": "stream",
     "text": [
      "Using TensorFlow backend.\n"
     ]
    }
   ],
   "source": [
    "import keras\n",
    "from keras.datasets import mnist\n",
    "from keras.models import Sequential\n",
    "from keras.layers import Dense\n",
    "from keras.optimizers import SGD"
   ]
  },
  {
   "cell_type": "markdown",
   "metadata": {},
   "source": [
    "### Load data"
   ]
  },
  {
   "cell_type": "code",
   "execution_count": 3,
   "metadata": {},
   "outputs": [],
   "source": [
    "(X_train,y_train),(X_test,y_test) = mnist.load_data()"
   ]
  },
  {
   "cell_type": "code",
   "execution_count": 4,
   "metadata": {},
   "outputs": [
    {
     "data": {
      "text/plain": [
       "(60000, 28, 28)"
      ]
     },
     "execution_count": 4,
     "metadata": {},
     "output_type": "execute_result"
    }
   ],
   "source": [
    "X_train.shape"
   ]
  },
  {
   "cell_type": "code",
   "execution_count": 5,
   "metadata": {},
   "outputs": [
    {
     "data": {
      "text/plain": [
       "(60000,)"
      ]
     },
     "execution_count": 5,
     "metadata": {},
     "output_type": "execute_result"
    }
   ],
   "source": [
    "y_train.shape"
   ]
  },
  {
   "cell_type": "code",
   "execution_count": 6,
   "metadata": {},
   "outputs": [],
   "source": [
    "X_train = X_train.reshape(60000,784).astype('float32')\n",
    "X_test = X_test.reshape(10000,784).astype('float32')"
   ]
  },
  {
   "cell_type": "code",
   "execution_count": 7,
   "metadata": {
    "collapsed": true
   },
   "outputs": [],
   "source": [
    "X_train /= 255\n",
    "X_test /= 255"
   ]
  },
  {
   "cell_type": "code",
   "execution_count": 8,
   "metadata": {
    "collapsed": true
   },
   "outputs": [],
   "source": [
    "n_classes = 10\n",
    "y_train = keras.utils.to_categorical(y_train,n_classes)\n",
    "y_test = keras.utils.to_categorical(y_test,n_classes)"
   ]
  },
  {
   "cell_type": "markdown",
   "metadata": {},
   "source": [
    "### Build Neural Net architecture"
   ]
  },
  {
   "cell_type": "code",
   "execution_count": 9,
   "metadata": {
    "collapsed": true
   },
   "outputs": [],
   "source": [
    "model = Sequential()\n",
    "model.add(Dense(64,activation='relu',input_shape=(784,)))\n",
    "model.add(Dense(64,activation='relu'))\n",
    "model.add(Dense(10,activation='softmax'))"
   ]
  },
  {
   "cell_type": "code",
   "execution_count": 10,
   "metadata": {},
   "outputs": [
    {
     "name": "stdout",
     "output_type": "stream",
     "text": [
      "_________________________________________________________________\n",
      "Layer (type)                 Output Shape              Param #   \n",
      "=================================================================\n",
      "dense_1 (Dense)              (None, 64)                50240     \n",
      "_________________________________________________________________\n",
      "dense_2 (Dense)              (None, 64)                4160      \n",
      "_________________________________________________________________\n",
      "dense_3 (Dense)              (None, 10)                650       \n",
      "=================================================================\n",
      "Total params: 55,050\n",
      "Trainable params: 55,050\n",
      "Non-trainable params: 0\n",
      "_________________________________________________________________\n"
     ]
    }
   ],
   "source": [
    "model.summary()"
   ]
  },
  {
   "cell_type": "markdown",
   "metadata": {},
   "source": [
    "### Configure model"
   ]
  },
  {
   "cell_type": "code",
   "execution_count": 11,
   "metadata": {
    "collapsed": true
   },
   "outputs": [],
   "source": [
    "model.compile(loss='categorical_crossentropy',optimizer=SGD(lr=0.1),metrics=['accuracy'])"
   ]
  },
  {
   "cell_type": "markdown",
   "metadata": {},
   "source": [
    "#### Train model"
   ]
  },
  {
   "cell_type": "code",
   "execution_count": 12,
   "metadata": {},
   "outputs": [
    {
     "name": "stdout",
     "output_type": "stream",
     "text": [
      "Train on 60000 samples, validate on 10000 samples\n",
      "Epoch 1/100\n",
      "60000/60000 [==============================] - 1s - loss: 0.4784 - acc: 0.8642 - val_loss: 0.2506 - val_acc: 0.9255\n",
      "Epoch 2/100\n",
      "60000/60000 [==============================] - 1s - loss: 0.2242 - acc: 0.9353 - val_loss: 0.1950 - val_acc: 0.9430\n",
      "Epoch 3/100\n",
      "60000/60000 [==============================] - 1s - loss: 0.1715 - acc: 0.9502 - val_loss: 0.1506 - val_acc: 0.9555\n",
      "Epoch 4/100\n",
      "60000/60000 [==============================] - 1s - loss: 0.1413 - acc: 0.9589 - val_loss: 0.1314 - val_acc: 0.9615\n",
      "Epoch 5/100\n",
      "60000/60000 [==============================] - 1s - loss: 0.1201 - acc: 0.9652 - val_loss: 0.1286 - val_acc: 0.9610\n",
      "Epoch 6/100\n",
      "60000/60000 [==============================] - 1s - loss: 0.1045 - acc: 0.9695 - val_loss: 0.1060 - val_acc: 0.9677\n",
      "Epoch 7/100\n",
      "60000/60000 [==============================] - 1s - loss: 0.0927 - acc: 0.9727 - val_loss: 0.0985 - val_acc: 0.9697\n",
      "Epoch 8/100\n",
      "60000/60000 [==============================] - 1s - loss: 0.0826 - acc: 0.9761 - val_loss: 0.0932 - val_acc: 0.9713\n",
      "Epoch 9/100\n",
      "60000/60000 [==============================] - 1s - loss: 0.0758 - acc: 0.9773 - val_loss: 0.0907 - val_acc: 0.9727\n",
      "Epoch 10/100\n",
      "60000/60000 [==============================] - 1s - loss: 0.0682 - acc: 0.9798 - val_loss: 0.0937 - val_acc: 0.9716\n",
      "Epoch 11/100\n",
      "60000/60000 [==============================] - 1s - loss: 0.0630 - acc: 0.9812 - val_loss: 0.0859 - val_acc: 0.9752\n",
      "Epoch 12/100\n",
      "60000/60000 [==============================] - 1s - loss: 0.0573 - acc: 0.9832 - val_loss: 0.0845 - val_acc: 0.9743\n",
      "Epoch 13/100\n",
      "60000/60000 [==============================] - 1s - loss: 0.0522 - acc: 0.9849 - val_loss: 0.0893 - val_acc: 0.9727\n",
      "Epoch 14/100\n",
      "60000/60000 [==============================] - 1s - loss: 0.0487 - acc: 0.9861 - val_loss: 0.0831 - val_acc: 0.9755\n",
      "Epoch 15/100\n",
      "60000/60000 [==============================] - 1s - loss: 0.0453 - acc: 0.9869 - val_loss: 0.0846 - val_acc: 0.9739\n",
      "Epoch 16/100\n",
      "60000/60000 [==============================] - 1s - loss: 0.0419 - acc: 0.9875 - val_loss: 0.0853 - val_acc: 0.9756\n",
      "Epoch 17/100\n",
      "60000/60000 [==============================] - 1s - loss: 0.0398 - acc: 0.9884 - val_loss: 0.0850 - val_acc: 0.9739\n",
      "Epoch 18/100\n",
      "60000/60000 [==============================] - 1s - loss: 0.0362 - acc: 0.9894 - val_loss: 0.0752 - val_acc: 0.9774\n",
      "Epoch 19/100\n",
      "60000/60000 [==============================] - 1s - loss: 0.0335 - acc: 0.9901 - val_loss: 0.0840 - val_acc: 0.9756\n",
      "Epoch 20/100\n",
      "60000/60000 [==============================] - 1s - loss: 0.0314 - acc: 0.9911 - val_loss: 0.0806 - val_acc: 0.9764\n",
      "Epoch 21/100\n",
      "60000/60000 [==============================] - 1s - loss: 0.0303 - acc: 0.9916 - val_loss: 0.0807 - val_acc: 0.9756\n",
      "Epoch 22/100\n",
      "60000/60000 [==============================] - 1s - loss: 0.0275 - acc: 0.9923 - val_loss: 0.0781 - val_acc: 0.9775\n",
      "Epoch 23/100\n",
      "60000/60000 [==============================] - 1s - loss: 0.0253 - acc: 0.9933 - val_loss: 0.0786 - val_acc: 0.9772\n",
      "Epoch 24/100\n",
      "60000/60000 [==============================] - 1s - loss: 0.0242 - acc: 0.9936 - val_loss: 0.0794 - val_acc: 0.9775\n",
      "Epoch 25/100\n",
      "60000/60000 [==============================] - 1s - loss: 0.0225 - acc: 0.9936 - val_loss: 0.0854 - val_acc: 0.9749\n",
      "Epoch 26/100\n",
      "60000/60000 [==============================] - 1s - loss: 0.0212 - acc: 0.9945 - val_loss: 0.0829 - val_acc: 0.9759\n",
      "Epoch 27/100\n",
      "60000/60000 [==============================] - 1s - loss: 0.0189 - acc: 0.9954 - val_loss: 0.0815 - val_acc: 0.9776\n",
      "Epoch 28/100\n",
      "60000/60000 [==============================] - 1s - loss: 0.0178 - acc: 0.9957 - val_loss: 0.0832 - val_acc: 0.9769\n",
      "Epoch 29/100\n",
      "60000/60000 [==============================] - 1s - loss: 0.0166 - acc: 0.9961 - val_loss: 0.0814 - val_acc: 0.9784\n",
      "Epoch 30/100\n",
      "60000/60000 [==============================] - 1s - loss: 0.0148 - acc: 0.9968 - val_loss: 0.0850 - val_acc: 0.9774\n",
      "Epoch 31/100\n",
      "60000/60000 [==============================] - 1s - loss: 0.0142 - acc: 0.9969 - val_loss: 0.0818 - val_acc: 0.9778\n",
      "Epoch 32/100\n",
      "60000/60000 [==============================] - 1s - loss: 0.0127 - acc: 0.9975 - val_loss: 0.0839 - val_acc: 0.9783\n",
      "Epoch 33/100\n",
      "60000/60000 [==============================] - 1s - loss: 0.0115 - acc: 0.9978 - val_loss: 0.0870 - val_acc: 0.9766\n",
      "Epoch 34/100\n",
      "60000/60000 [==============================] - 1s - loss: 0.0112 - acc: 0.9978 - val_loss: 0.0853 - val_acc: 0.9784\n",
      "Epoch 35/100\n",
      "60000/60000 [==============================] - 1s - loss: 0.0104 - acc: 0.9981 - val_loss: 0.0973 - val_acc: 0.9740\n",
      "Epoch 36/100\n",
      "60000/60000 [==============================] - 1s - loss: 0.0099 - acc: 0.9981 - val_loss: 0.0870 - val_acc: 0.9774\n",
      "Epoch 37/100\n",
      "60000/60000 [==============================] - 1s - loss: 0.0091 - acc: 0.9985 - val_loss: 0.0877 - val_acc: 0.9776\n",
      "Epoch 38/100\n",
      "60000/60000 [==============================] - 1s - loss: 0.0082 - acc: 0.9989 - val_loss: 0.0893 - val_acc: 0.9763\n",
      "Epoch 39/100\n",
      "60000/60000 [==============================] - 1s - loss: 0.0075 - acc: 0.9992 - val_loss: 0.0922 - val_acc: 0.9772\n",
      "Epoch 40/100\n",
      "60000/60000 [==============================] - 1s - loss: 0.0070 - acc: 0.9990 - val_loss: 0.0948 - val_acc: 0.9764\n",
      "Epoch 41/100\n",
      "60000/60000 [==============================] - 1s - loss: 0.0070 - acc: 0.9990 - val_loss: 0.0899 - val_acc: 0.9772\n",
      "Epoch 42/100\n",
      "60000/60000 [==============================] - 1s - loss: 0.0064 - acc: 0.9992 - val_loss: 0.0919 - val_acc: 0.9767\n",
      "Epoch 43/100\n",
      "60000/60000 [==============================] - 1s - loss: 0.0057 - acc: 0.9995 - val_loss: 0.0933 - val_acc: 0.9771\n",
      "Epoch 44/100\n",
      "60000/60000 [==============================] - 1s - loss: 0.0051 - acc: 0.9996 - val_loss: 0.0924 - val_acc: 0.9780\n",
      "Epoch 45/100\n",
      "60000/60000 [==============================] - 1s - loss: 0.0050 - acc: 0.9995 - val_loss: 0.0935 - val_acc: 0.9770\n",
      "Epoch 46/100\n",
      "60000/60000 [==============================] - 1s - loss: 0.0046 - acc: 0.9997 - val_loss: 0.0938 - val_acc: 0.9775\n",
      "Epoch 47/100\n",
      "60000/60000 [==============================] - 1s - loss: 0.0043 - acc: 0.9996 - val_loss: 0.0931 - val_acc: 0.9780\n",
      "Epoch 48/100\n",
      "60000/60000 [==============================] - 1s - loss: 0.0040 - acc: 0.9998 - val_loss: 0.0970 - val_acc: 0.9772\n",
      "Epoch 49/100\n",
      "60000/60000 [==============================] - 1s - loss: 0.0038 - acc: 0.9998 - val_loss: 0.1000 - val_acc: 0.9757\n",
      "Epoch 50/100\n",
      "60000/60000 [==============================] - 1s - loss: 0.0036 - acc: 0.9999 - val_loss: 0.0958 - val_acc: 0.9777\n",
      "Epoch 51/100\n",
      "60000/60000 [==============================] - 1s - loss: 0.0032 - acc: 0.9999 - val_loss: 0.0950 - val_acc: 0.9778\n",
      "Epoch 52/100\n",
      "60000/60000 [==============================] - 1s - loss: 0.0032 - acc: 0.9998 - val_loss: 0.0988 - val_acc: 0.9768\n",
      "Epoch 53/100\n",
      "60000/60000 [==============================] - 1s - loss: 0.0030 - acc: 0.9999 - val_loss: 0.0970 - val_acc: 0.9774\n",
      "Epoch 54/100\n",
      "60000/60000 [==============================] - 1s - loss: 0.0029 - acc: 0.9999 - val_loss: 0.0988 - val_acc: 0.9773\n",
      "Epoch 55/100\n",
      "60000/60000 [==============================] - 1s - loss: 0.0027 - acc: 0.9999 - val_loss: 0.0988 - val_acc: 0.9775\n",
      "Epoch 56/100\n",
      "60000/60000 [==============================] - 1s - loss: 0.0027 - acc: 0.9999 - val_loss: 0.0978 - val_acc: 0.9774\n",
      "Epoch 57/100\n",
      "60000/60000 [==============================] - 1s - loss: 0.0025 - acc: 0.9999 - val_loss: 0.0983 - val_acc: 0.9777\n",
      "Epoch 58/100\n",
      "60000/60000 [==============================] - 1s - loss: 0.0025 - acc: 0.9999 - val_loss: 0.0984 - val_acc: 0.9775\n",
      "Epoch 59/100\n",
      "60000/60000 [==============================] - 1s - loss: 0.0023 - acc: 1.0000 - val_loss: 0.1005 - val_acc: 0.9773\n",
      "Epoch 60/100\n",
      "60000/60000 [==============================] - 1s - loss: 0.0022 - acc: 1.0000 - val_loss: 0.1013 - val_acc: 0.9772\n",
      "Epoch 61/100\n",
      "60000/60000 [==============================] - 1s - loss: 0.0021 - acc: 1.0000 - val_loss: 0.1021 - val_acc: 0.9769\n",
      "Epoch 62/100\n",
      "60000/60000 [==============================] - 1s - loss: 0.0020 - acc: 1.0000 - val_loss: 0.1030 - val_acc: 0.9771\n",
      "Epoch 63/100\n",
      "60000/60000 [==============================] - 1s - loss: 0.0020 - acc: 1.0000 - val_loss: 0.1031 - val_acc: 0.9775\n",
      "Epoch 64/100\n"
     ]
    },
    {
     "name": "stdout",
     "output_type": "stream",
     "text": [
      "60000/60000 [==============================] - 1s - loss: 0.0019 - acc: 1.0000 - val_loss: 0.1025 - val_acc: 0.9776\n",
      "Epoch 65/100\n",
      "60000/60000 [==============================] - 1s - loss: 0.0018 - acc: 1.0000 - val_loss: 0.1028 - val_acc: 0.9775\n",
      "Epoch 66/100\n",
      "60000/60000 [==============================] - 1s - loss: 0.0018 - acc: 1.0000 - val_loss: 0.1043 - val_acc: 0.9775\n",
      "Epoch 67/100\n",
      "60000/60000 [==============================] - 1s - loss: 0.0017 - acc: 1.0000 - val_loss: 0.1028 - val_acc: 0.9770\n",
      "Epoch 68/100\n",
      "60000/60000 [==============================] - 1s - loss: 0.0017 - acc: 1.0000 - val_loss: 0.1036 - val_acc: 0.9777\n",
      "Epoch 69/100\n",
      "60000/60000 [==============================] - 1s - loss: 0.0016 - acc: 1.0000 - val_loss: 0.1055 - val_acc: 0.9773\n",
      "Epoch 70/100\n",
      "60000/60000 [==============================] - 1s - loss: 0.0016 - acc: 1.0000 - val_loss: 0.1056 - val_acc: 0.9774\n",
      "Epoch 71/100\n",
      "60000/60000 [==============================] - 1s - loss: 0.0016 - acc: 1.0000 - val_loss: 0.1055 - val_acc: 0.9771\n",
      "Epoch 72/100\n",
      "60000/60000 [==============================] - 1s - loss: 0.0015 - acc: 1.0000 - val_loss: 0.1061 - val_acc: 0.9771\n",
      "Epoch 73/100\n",
      "60000/60000 [==============================] - 1s - loss: 0.0015 - acc: 1.0000 - val_loss: 0.1053 - val_acc: 0.9779\n",
      "Epoch 74/100\n",
      "60000/60000 [==============================] - 1s - loss: 0.0015 - acc: 1.0000 - val_loss: 0.1068 - val_acc: 0.9776\n",
      "Epoch 75/100\n",
      "60000/60000 [==============================] - 1s - loss: 0.0014 - acc: 1.0000 - val_loss: 0.1064 - val_acc: 0.9774\n",
      "Epoch 76/100\n",
      "60000/60000 [==============================] - 1s - loss: 0.0014 - acc: 1.0000 - val_loss: 0.1067 - val_acc: 0.9777\n",
      "Epoch 77/100\n",
      "60000/60000 [==============================] - 1s - loss: 0.0014 - acc: 1.0000 - val_loss: 0.1076 - val_acc: 0.9773\n",
      "Epoch 78/100\n",
      "60000/60000 [==============================] - 1s - loss: 0.0013 - acc: 1.0000 - val_loss: 0.1074 - val_acc: 0.9772\n",
      "Epoch 79/100\n",
      "60000/60000 [==============================] - 1s - loss: 0.0013 - acc: 1.0000 - val_loss: 0.1080 - val_acc: 0.9774\n",
      "Epoch 80/100\n",
      "60000/60000 [==============================] - 1s - loss: 0.0013 - acc: 1.0000 - val_loss: 0.1080 - val_acc: 0.9774\n",
      "Epoch 81/100\n",
      "60000/60000 [==============================] - 1s - loss: 0.0013 - acc: 1.0000 - val_loss: 0.1107 - val_acc: 0.9766\n",
      "Epoch 82/100\n",
      "60000/60000 [==============================] - 1s - loss: 0.0012 - acc: 1.0000 - val_loss: 0.1091 - val_acc: 0.9772\n",
      "Epoch 83/100\n",
      "60000/60000 [==============================] - 1s - loss: 0.0012 - acc: 1.0000 - val_loss: 0.1090 - val_acc: 0.9771\n",
      "Epoch 84/100\n",
      "60000/60000 [==============================] - 1s - loss: 0.0012 - acc: 1.0000 - val_loss: 0.1097 - val_acc: 0.9775\n",
      "Epoch 85/100\n",
      "60000/60000 [==============================] - 1s - loss: 0.0012 - acc: 1.0000 - val_loss: 0.1094 - val_acc: 0.9774\n",
      "Epoch 86/100\n",
      "60000/60000 [==============================] - 1s - loss: 0.0011 - acc: 1.0000 - val_loss: 0.1109 - val_acc: 0.9775\n",
      "Epoch 87/100\n",
      "60000/60000 [==============================] - 1s - loss: 0.0011 - acc: 1.0000 - val_loss: 0.1102 - val_acc: 0.9771\n",
      "Epoch 88/100\n",
      "60000/60000 [==============================] - 1s - loss: 0.0011 - acc: 1.0000 - val_loss: 0.1105 - val_acc: 0.9776\n",
      "Epoch 89/100\n",
      "60000/60000 [==============================] - 1s - loss: 0.0011 - acc: 1.0000 - val_loss: 0.1112 - val_acc: 0.9772\n",
      "Epoch 90/100\n",
      "60000/60000 [==============================] - 1s - loss: 0.0011 - acc: 1.0000 - val_loss: 0.1113 - val_acc: 0.9771\n",
      "Epoch 91/100\n",
      "60000/60000 [==============================] - 1s - loss: 0.0011 - acc: 1.0000 - val_loss: 0.1118 - val_acc: 0.9773\n",
      "Epoch 92/100\n",
      "60000/60000 [==============================] - 1s - loss: 0.0010 - acc: 1.0000 - val_loss: 0.1114 - val_acc: 0.9774\n",
      "Epoch 93/100\n",
      "60000/60000 [==============================] - 1s - loss: 0.0010 - acc: 1.0000 - val_loss: 0.1121 - val_acc: 0.9776\n",
      "Epoch 94/100\n",
      "60000/60000 [==============================] - 1s - loss: 0.0010 - acc: 1.0000 - val_loss: 0.1125 - val_acc: 0.9767\n",
      "Epoch 95/100\n",
      "60000/60000 [==============================] - 1s - loss: 9.9401e-04 - acc: 1.0000 - val_loss: 0.1128 - val_acc: 0.9771\n",
      "Epoch 96/100\n",
      "60000/60000 [==============================] - 1s - loss: 9.8496e-04 - acc: 1.0000 - val_loss: 0.1125 - val_acc: 0.9773\n",
      "Epoch 97/100\n",
      "60000/60000 [==============================] - 1s - loss: 9.7396e-04 - acc: 1.0000 - val_loss: 0.1126 - val_acc: 0.9769\n",
      "Epoch 98/100\n",
      "60000/60000 [==============================] - 1s - loss: 9.6138e-04 - acc: 1.0000 - val_loss: 0.1130 - val_acc: 0.9776\n",
      "Epoch 99/100\n",
      "60000/60000 [==============================] - 1s - loss: 9.4230e-04 - acc: 1.0000 - val_loss: 0.1132 - val_acc: 0.9773\n",
      "Epoch 100/100\n",
      "60000/60000 [==============================] - 1s - loss: 9.3360e-04 - acc: 1.0000 - val_loss: 0.1129 - val_acc: 0.9774\n"
     ]
    },
    {
     "data": {
      "text/plain": [
       "<keras.callbacks.History at 0x7f2202924c50>"
      ]
     },
     "execution_count": 12,
     "metadata": {},
     "output_type": "execute_result"
    }
   ],
   "source": [
    "model.fit(X_train, y_train, batch_size=128, epochs=100, verbose=1, validation_data=(X_test, y_test))"
   ]
  },
  {
   "cell_type": "code",
   "execution_count": 13,
   "metadata": {},
   "outputs": [
    {
     "name": "stdout",
     "output_type": "stream",
     "text": [
      " 9280/10000 [==========================>...] - ETA: 0s"
     ]
    },
    {
     "data": {
      "text/plain": [
       "[0.11294396123648935, 0.97740000000000005]"
      ]
     },
     "execution_count": 13,
     "metadata": {},
     "output_type": "execute_result"
    }
   ],
   "source": [
    "model.evaluate(X_test, y_test)"
   ]
  },
  {
   "cell_type": "code",
   "execution_count": null,
   "metadata": {
    "collapsed": true
   },
   "outputs": [],
   "source": []
  },
  {
   "cell_type": "code",
   "execution_count": null,
   "metadata": {
    "collapsed": true
   },
   "outputs": [],
   "source": []
  },
  {
   "cell_type": "code",
   "execution_count": null,
   "metadata": {
    "collapsed": true
   },
   "outputs": [],
   "source": []
  }
 ],
 "metadata": {
  "kernelspec": {
   "display_name": "Python 3",
   "language": "python",
   "name": "python3"
  },
  "language_info": {
   "codemirror_mode": {
    "name": "ipython",
    "version": 3
   },
   "file_extension": ".py",
   "mimetype": "text/x-python",
   "name": "python",
   "nbconvert_exporter": "python",
   "pygments_lexer": "ipython3",
   "version": "3.5.2"
  }
 },
 "nbformat": 4,
 "nbformat_minor": 2
}
